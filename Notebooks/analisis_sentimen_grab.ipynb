{
  "cells": [
    {
      "cell_type": "markdown",
      "metadata": {
        "id": "9amE2aotf0yu"
      },
      "source": [
        "### Instalasi dan Import Pustaka yang Dibutuhkan"
      ]
    },
    {
      "cell_type": "markdown",
      "metadata": {},
      "source": [
        "Pada tahap awal ini, dilakukan instalasi dan import berbagai pustaka yang diperlukan untuk analisis sentimen ulasan aplikasi Grab. Pustaka-pustaka ini terbagi ke dalam beberapa kategori:\n",
        "\n",
        "1. **Instalasi Eksternal**\n",
        "   - `Sastrawi`: Digunakan untuk proses penghapusan kata tidak penting (stopword removal) dalam bahasa Indonesia.\n",
        "\n",
        "2. **Manipulasi Data dan Visualisasi**\n",
        "   - `pandas`, `numpy`: Untuk manipulasi data numerik dan tabular.\n",
        "   - `matplotlib.pyplot`, `seaborn`: Untuk membuat visualisasi grafik dan analisis eksploratif.\n",
        "   - `WordCloud`: Untuk visualisasi kata yang sering muncul dalam bentuk awan kata.\n",
        "\n",
        "3. **Pemrosesan Teks**\n",
        "   - `re`, `string`, `json`, `requests`, `pickle`: Berbagai utilitas Python untuk pemrosesan string dan penyimpanan.\n",
        "   - `nltk`: Untuk tokenisasi dan stopwords dalam bahasa Inggris.\n",
        "   - `Sastrawi.StopWordRemoverFactory`: Untuk stopword removal dalam bahasa Indonesia.\n",
        "   - Dependensi tambahan NLTK seperti `punkt`, `stopwords`, dan `punkt_tab` juga diunduh.\n",
        "\n",
        "4. **Pembelajaran Mesin (Machine Learning)**\n",
        "   - `TfidfVectorizer`: Untuk mengubah teks menjadi representasi numerik.\n",
        "   - `train_test_split`: Untuk membagi data latih dan data uji.\n",
        "   - `SVC`, `RandomForestClassifier`: Model untuk klasifikasi.\n",
        "   - `accuracy_score`, `precision_score`, `classification_report`, `confusion_matrix`: Untuk evaluasi model.\n",
        "\n",
        "5. **Pembelajaran Mendalam (Deep Learning)**\n",
        "   - `Tokenizer`, `pad_sequences`, `Sequential`, dan berbagai layer dari Keras untuk membangun model LSTM atau GRU.\n",
        "   - `EarlyStopping`, `ReduceLROnPlateau`: Untuk optimisasi proses pelatihan.\n",
        "   - `Adam`, `l2`: Optimizer dan regularizer.\n",
        "\n",
        "6. **Lain-lain**\n",
        "   - `warnings`: Digunakan untuk menyembunyikan peringatan dari output saat notebook dijalankan.\n",
        "\n",
        "Dengan semua pustaka ini, proses analisis sentimen baik menggunakan pendekatan machine learning maupun deep learning dapat dilakukan secara lengkap."
      ]
    },
    {
      "cell_type": "code",
      "execution_count": 1,
      "metadata": {
        "colab": {
          "base_uri": "https://localhost:8080/"
        },
        "id": "Ew0ezvKcfkZt",
        "outputId": "a0d9c5b7-017f-4e5f-ca01-7d47d5afa4bd"
      },
      "outputs": [
        {
          "name": "stdout",
          "output_type": "stream",
          "text": [
            "Requirement already satisfied: Sastrawi in c:\\users\\asus\\appdata\\local\\programs\\python\\python312\\lib\\site-packages (1.0.1)\n"
          ]
        },
        {
          "name": "stderr",
          "output_type": "stream",
          "text": [
            "[nltk_data] Downloading package punkt to\n",
            "[nltk_data]     C:\\Users\\ASUS\\AppData\\Roaming\\nltk_data...\n",
            "[nltk_data]   Package punkt is already up-to-date!\n",
            "[nltk_data] Downloading package punkt_tab to\n",
            "[nltk_data]     C:\\Users\\ASUS\\AppData\\Roaming\\nltk_data...\n",
            "[nltk_data]   Unzipping tokenizers\\punkt_tab.zip.\n",
            "[nltk_data] Downloading package stopwords to\n",
            "[nltk_data]     C:\\Users\\ASUS\\AppData\\Roaming\\nltk_data...\n",
            "[nltk_data]   Package stopwords is already up-to-date!\n"
          ]
        }
      ],
      "source": [
        "# Instalasi pustaka yang dibutuhkan\n",
        "!pip install Sastrawi\n",
        "\n",
        "# Pustaka untuk manipulasi data dan visualisasi\n",
        "import pandas as pd\n",
        "import numpy as np\n",
        "import matplotlib.pyplot as plt\n",
        "import seaborn as sns\n",
        "from wordcloud import WordCloud\n",
        "\n",
        "# Pemrosesan teks\n",
        "import re\n",
        "import string\n",
        "import json\n",
        "import requests\n",
        "import pickle\n",
        "from nltk.tokenize import word_tokenize\n",
        "from nltk.corpus import stopwords\n",
        "from nltk import download as nltk_unduh\n",
        "from Sastrawi.StopWordRemover.StopWordRemoverFactory import StopWordRemoverFactory\n",
        "\n",
        "# Mengunduh dependensi NLTK\n",
        "nltk_unduh('punkt')\n",
        "nltk_unduh('punkt_tab')\n",
        "nltk_unduh('stopwords')\n",
        "\n",
        "# Pustaka untuk pembelajaran mesin\n",
        "from sklearn.svm import SVC\n",
        "from sklearn.ensemble import RandomForestClassifier\n",
        "from sklearn.feature_extraction.text import TfidfVectorizer\n",
        "from sklearn.model_selection import train_test_split\n",
        "from sklearn.metrics import accuracy_score, precision_score, classification_report, confusion_matrix\n",
        "\n",
        "# Pustaka untuk pembelajaran mendalam\n",
        "import tensorflow as tf\n",
        "from tensorflow.keras.preprocessing.text import Tokenizer\n",
        "from tensorflow.keras.preprocessing.sequence import pad_sequences\n",
        "from tensorflow.keras.models import Sequential\n",
        "from tensorflow.keras.layers import Embedding, LSTM, Dense, Dropout, Flatten, GRU, SpatialDropout1D\n",
        "from tensorflow.keras.utils import to_categorical\n",
        "from tensorflow.keras.callbacks import EarlyStopping, Callback, ReduceLROnPlateau\n",
        "from tensorflow.keras.regularizers import l2\n",
        "from tensorflow.keras.optimizers import Adam\n",
        "\n",
        "# Menonaktifkan peringatan sistem\n",
        "import warnings\n",
        "warnings.filterwarnings(\"ignore\")"
      ]
    },
    {
      "cell_type": "markdown",
      "metadata": {
        "id": "J7xHs47Yf5-3"
      },
      "source": [
        "### Memuat Dataset Ulasan Aplikasi Grab"
      ]
    },
    {
      "cell_type": "markdown",
      "metadata": {},
      "source": [
        "Pada tahap ini, dataset ulasan pengguna aplikasi Grab dimuat dari file CSV. Dataset ini sebelumnya telah diambil dari Google Play Store melalui proses scraping dan disimpan di folder `Datasets`.\n",
        "\n",
        "Dataset yang dimuat berisi dua kolom utama:\n",
        "- `content`: berisi teks ulasan dari pengguna.\n",
        "- `score`: berisi nilai rating yang diberikan pengguna terhadap aplikasi (biasanya antara 1–5).\n",
        "\n",
        "Setelah dimuat ke dalam variabel `data_frame`, beberapa baris pertama dari data ditampilkan untuk memberikan gambaran struktur dan isi dataset yang akan dianalisis."
      ]
    },
    {
      "cell_type": "code",
      "execution_count": 14,
      "metadata": {
        "colab": {
          "base_uri": "https://localhost:8080/",
          "height": 224
        },
        "id": "OX46M1MCfmoh",
        "outputId": "c33b9bd5-5702-4564-e053-fd930fcc8ca1"
      },
      "outputs": [
        {
          "name": "stdout",
          "output_type": "stream",
          "text": [
            "Contoh data ulasan:\n"
          ]
        },
        {
          "data": {
            "text/html": [
              "<div>\n",
              "<style scoped>\n",
              "    .dataframe tbody tr th:only-of-type {\n",
              "        vertical-align: middle;\n",
              "    }\n",
              "\n",
              "    .dataframe tbody tr th {\n",
              "        vertical-align: top;\n",
              "    }\n",
              "\n",
              "    .dataframe thead th {\n",
              "        text-align: right;\n",
              "    }\n",
              "</style>\n",
              "<table border=\"1\" class=\"dataframe\">\n",
              "  <thead>\n",
              "    <tr style=\"text-align: right;\">\n",
              "      <th></th>\n",
              "      <th>content</th>\n",
              "      <th>score</th>\n",
              "    </tr>\n",
              "  </thead>\n",
              "  <tbody>\n",
              "    <tr>\n",
              "      <th>0</th>\n",
              "      <td>kurang menarik karena brang saya ga di kembalikan</td>\n",
              "      <td>3</td>\n",
              "    </tr>\n",
              "    <tr>\n",
              "      <th>1</th>\n",
              "      <td>Thanks udah di anterin</td>\n",
              "      <td>5</td>\n",
              "    </tr>\n",
              "    <tr>\n",
              "      <th>2</th>\n",
              "      <td>Dengan adanya apk grab perjalan saya dgn tujua...</td>\n",
              "      <td>5</td>\n",
              "    </tr>\n",
              "    <tr>\n",
              "      <th>3</th>\n",
              "      <td>sangat membantu</td>\n",
              "      <td>5</td>\n",
              "    </tr>\n",
              "    <tr>\n",
              "      <th>4</th>\n",
              "      <td>bagus pelayanan beik dan cepat respon.</td>\n",
              "      <td>5</td>\n",
              "    </tr>\n",
              "  </tbody>\n",
              "</table>\n",
              "</div>"
            ],
            "text/plain": [
              "                                             content  score\n",
              "0  kurang menarik karena brang saya ga di kembalikan      3\n",
              "1                             Thanks udah di anterin      5\n",
              "2  Dengan adanya apk grab perjalan saya dgn tujua...      5\n",
              "3                                    sangat membantu      5\n",
              "4             bagus pelayanan beik dan cepat respon.      5"
            ]
          },
          "execution_count": 14,
          "metadata": {},
          "output_type": "execute_result"
        }
      ],
      "source": [
        "# Memuat dataset ulasan dari file CSV lokal\n",
        "file_path = \"../Datasets/grab_reviews.csv\"\n",
        "df = pd.read_csv(file_path)\n",
        "\n",
        "# Menampilkan beberapa baris awal dari dataset\n",
        "print(\"Contoh data ulasan:\")\n",
        "df.head()"
      ]
    },
    {
      "cell_type": "markdown",
      "metadata": {
        "id": "yWkJjroCf-cI"
      },
      "source": [
        "### Exploratory Data Analysis (EDA)\n",
        "\n"
      ]
    },
    {
      "cell_type": "markdown",
      "metadata": {},
      "source": [
        "#### Menampilkan Informasi Umum dan Pengecekan Data Kosong"
      ]
    },
    {
      "cell_type": "markdown",
      "metadata": {},
      "source": [
        "Tahapan ini bertujuan untuk memahami struktur dataset secara umum dan mengidentifikasi potensi masalah data seperti nilai yang hilang.\n",
        "\n",
        "Langkah-langkah yang dilakukan:\n",
        "1. **`df.info()`**: \n",
        "   - Menampilkan informasi struktur DataFrame, termasuk jumlah entri, jumlah kolom, tipe data pada setiap kolom, serta jumlah non-null pada masing-masing kolom.\n",
        "   - Berguna untuk memastikan bahwa dataset telah dimuat dengan benar dan kolom-kolom penting seperti `content` dan `score` tidak kosong.\n",
        "\n",
        "2. **`df.isnull().sum()`**:\n",
        "   - Mengecek apakah terdapat nilai kosong (missing values) pada dataset.\n",
        "   - Hal ini penting untuk memastikan kualitas data sebelum masuk ke tahap preprocessing dan pelatihan model.\n",
        "\n",
        "Dengan melakukan pengecekan ini sejak awal, kita bisa menghindari error saat pemrosesan data lanjutan atau pelatihan model."
      ]
    },
    {
      "cell_type": "code",
      "execution_count": 15,
      "metadata": {
        "colab": {
          "base_uri": "https://localhost:8080/"
        },
        "id": "tFwagfwhfqZo",
        "outputId": "eb8037e5-3da3-49d8-d64d-8f0bedc2d8db"
      },
      "outputs": [
        {
          "name": "stdout",
          "output_type": "stream",
          "text": [
            "<class 'pandas.core.frame.DataFrame'>\n",
            "RangeIndex: 20000 entries, 0 to 19999\n",
            "Data columns (total 2 columns):\n",
            " #   Column   Non-Null Count  Dtype \n",
            "---  ------   --------------  ----- \n",
            " 0   content  20000 non-null  object\n",
            " 1   score    20000 non-null  int64 \n",
            "dtypes: int64(1), object(1)\n",
            "memory usage: 312.6+ KB\n",
            "Nilai yang hilang:\n",
            "content    0\n",
            "score      0\n",
            "dtype: int64\n"
          ]
        }
      ],
      "source": [
        "# Menampilkan informasi dasar dari dataset\n",
        "df.info()\n",
        "\n",
        "# Mengecek apakah ada nilai kosong di setiap kolom\n",
        "print(\"Nilai yang hilang:\")\n",
        "print(df.isnull().sum())"
      ]
    },
    {
      "cell_type": "markdown",
      "metadata": {
        "id": "iV-MdpPWgJyY"
      },
      "source": [
        "#### Visualisasi Distribusi Rating Ulasan"
      ]
    },
    {
      "cell_type": "markdown",
      "metadata": {},
      "source": [
        "Tahapan ini bertujuan untuk memahami sebaran sentimen pengguna terhadap aplikasi Grab berdasarkan nilai rating (1 hingga 5).\n",
        "\n",
        "Langkah-langkah yang dilakukan:\n",
        "1. **Visualisasi dengan `countplot`**:\n",
        "   - Menggunakan `seaborn.countplot()` untuk menampilkan grafik batang yang menunjukkan jumlah ulasan untuk setiap kategori skor.\n",
        "   - Warna grafik diatur menggunakan palet `viridis` agar tampil lebih informatif dan menarik.\n",
        "\n",
        "2. **`value_counts()`**:\n",
        "   - Menampilkan jumlah absolut dari masing-masing skor (1, 2, 3, 4, 5).\n",
        "   - Ini membantu mengidentifikasi apakah dataset seimbang (balanced) atau tidak (unbalanced), yang akan sangat memengaruhi kinerja model klasifikasi nantinya.\n",
        "\n",
        "Distribusi rating sangat penting sebagai dasar pengkategorian sentimen (positif, negatif, netral) dan dapat digunakan untuk menetapkan label kelas pada proses supervised learning."
      ]
    },
    {
      "cell_type": "code",
      "execution_count": 16,
      "metadata": {
        "colab": {
          "base_uri": "https://localhost:8080/",
          "height": 531
        },
        "id": "E0OzHSELgMMR",
        "outputId": "a2b54f2a-f888-4a94-ea13-62bb43296cb1"
      },
      "outputs": [
        {
          "data": {
            "image/png": "[encoded data removed]",
            "text/plain": [
              "<Figure size 600x400 with 1 Axes>"
            ]
          },
          "metadata": {},
          "output_type": "display_data"
        },
        {
          "name": "stdout",
          "output_type": "stream",
          "text": [
            "score\n",
            "5    14420\n",
            "1     3307\n",
            "4     1040\n",
            "3      652\n",
            "2      581\n",
            "Name: count, dtype: int64\n"
          ]
        }
      ],
      "source": [
        "# Visualisasi distribusi rating pengguna terhadap aplikasi Grab\n",
        "plt.figure(figsize=(6, 4))\n",
        "sns.countplot(x=df['score'], palette='viridis')\n",
        "plt.title(\"Distribusi Sentimen\")\n",
        "plt.xlabel(\"Rating\")\n",
        "plt.ylabel(\"Jumlah\")\n",
        "plt.show()\n",
        "\n",
        "# Menampilkan jumlah ulasan berdasarkan masing-masing skor\n",
        "print(df['score'].value_counts())"
      ]
    },
    {
      "cell_type": "markdown",
      "metadata": {
        "id": "P3d4rOhigOww"
      },
      "source": [
        "### Text Preprocessing\n",
        "\n",
        "\n"
      ]
    },
    {
      "cell_type": "markdown",
      "metadata": {},
      "source": [
        "#### Fungsi Pembersihan Teks Ulasan"
      ]
    },
    {
      "cell_type": "markdown",
      "metadata": {},
      "source": [
        "Tahapan ini merupakan bagian awal dari proses **preprocessing teks**. Tujuannya adalah membersihkan teks ulasan agar lebih seragam dan siap digunakan dalam analisis sentimen atau pemodelan machine learning.\n",
        "\n",
        "Fungsi `proses_teks(teks)` akan melakukan langkah-langkah berikut:\n",
        "\n",
        "1. **Menghapus mention** – karakter seperti `@username` dihilangkan karena tidak relevan untuk analisis sentimen.\n",
        "2. **Menghapus hashtag** – seperti `#promo`, yang biasanya digunakan untuk tren, juga tidak memberi nilai tambah dalam analisis.\n",
        "3. **Menghapus karakter khusus tertentu** – contohnya karakter seperti `²` yang terkadang muncul dari kesalahan ketik atau encoding.\n",
        "4. **Menghapus angka** – karena dalam banyak kasus, angka tidak memberikan konteks sentimen secara langsung.\n",
        "5. **Menghapus tanda baca** – agar hasil tokenisasi nanti lebih bersih dan seragam.\n",
        "6. **Menghapus spasi di awal/akhir** – untuk merapikan hasil pembersihan.\n",
        "7. **Mengubah teks menjadi huruf kecil semua** – agar tidak ada perbedaan makna antara kata seperti \"Bagus\" dan \"bagus\".\n",
        "\n",
        "Fungsi ini akan menjadi dasar dalam tahap selanjutnya seperti tokenisasi, stopword removal, dan pelabelan sentimen."
      ]
    },
    {
      "cell_type": "code",
      "execution_count": 17,
      "metadata": {
        "id": "pcIXW4BXgf_3"
      },
      "outputs": [],
      "source": [
        "# Fungsi untuk membersihkan teks ulasan aplikasi\n",
        "def proses_teks(teks):\n",
        "    teks = re.sub(r'@[A-Za-z0-9_]+', '', teks)       # Menghapus mention (@username)\n",
        "    teks = re.sub(r'#[A-Za-z0-9_]+', '', teks)       # Menghapus hashtag (#hashtag)\n",
        "    teks = re.sub(r'[²]', ' ', teks)                 # Menghapus karakter khusus tertentu\n",
        "    teks = re.sub(r'\\d+', ' ', teks)                 # Menghapus angka\n",
        "    teks = re.sub(r'[^\\w\\s]', ' ', teks)             # Menghapus tanda baca\n",
        "    teks = teks.strip()                              # Menghapus spasi ekstra\n",
        "    teks = teks.lower()                              # Konversi ke huruf kecil\n",
        "    return teks"
      ]
    },
    {
      "cell_type": "markdown",
      "metadata": {
        "id": "iWwR4oC_gi5b"
      },
      "source": [
        "#### Fungsi Tokenisasi Teks"
      ]
    },
    {
      "cell_type": "markdown",
      "metadata": {},
      "source": [
        "Tokenisasi adalah proses memecah teks ulasan menjadi unit-unit kata yang disebut token. Tahapan ini sangat penting dalam analisis sentimen karena model pembelajaran mesin memproses teks dalam bentuk token, bukan dalam kalimat utuh.\n",
        "\n",
        "Penjelasan fungsi `tokenisasi_teks(teks)`:\n",
        "- Menggunakan `word_tokenize()` dari pustaka NLTK.\n",
        "- Fungsi ini akan menerima sebuah teks ulasan (yang sudah dibersihkan), lalu mengubahnya menjadi list dari kata-kata individual.\n",
        "- Contoh: `'layanan sangat cepat dan memuaskan'` akan menjadi `['layanan', 'sangat', 'cepat', 'dan', 'memuaskan']`.\n",
        "\n",
        "Langkah ini penting sebelum menghilangkan stopword atau melakukan proses pembobotan seperti TF-IDF atau word embedding."
      ]
    },
    {
      "cell_type": "code",
      "execution_count": 18,
      "metadata": {
        "id": "jm5IAocOgl-D"
      },
      "outputs": [],
      "source": [
        "# Fungsi untuk memecah teks menjadi kata-kata (token)\n",
        "def tokenisasi_teks(teks):\n",
        "    teks = word_tokenize(teks)  # Mengubah teks menjadi list token\n",
        "    return teks"
      ]
    },
    {
      "cell_type": "markdown",
      "metadata": {
        "id": "MQuL3aq7got_"
      },
      "source": [
        "#### Fungsi Penghapusan Stopwords"
      ]
    },
    {
      "cell_type": "markdown",
      "metadata": {},
      "source": [
        "Setelah teks di-tokenisasi, langkah selanjutnya adalah **menghapus stopwords**, yaitu kata-kata umum yang tidak membawa makna penting dalam analisis sentimen. Contohnya seperti: *\"dan\"*, *\"itu\"*, *\"yang\"*.\n",
        "\n",
        "Fungsi `filter_stopwords(teks)` akan:\n",
        "1. Memuat daftar stopwords dari Bahasa Indonesia dan Bahasa Inggris menggunakan pustaka `nltk`.\n",
        "2. Menggabungkan kedua daftar stopwords tersebut agar dapat menangani teks yang menggunakan campuran dua bahasa (umum terjadi pada ulasan aplikasi).\n",
        "3. Menambahkan daftar stopwords kustom seperti `'iyaa'`, `'gak'`, `'loh'`, `'woy'`, dll, yang sering muncul dalam percakapan informal namun tidak signifikan untuk analisis sentimen.\n",
        "4. Memfilter kata-kata yang termasuk stopwords dari list token.\n",
        "\n",
        "Contoh:\n",
        "- Input: `['pelayanan', 'nya', 'bagus', 'banget']`\n",
        "- Output: `['pelayanan', 'bagus', 'banget']`\n",
        "\n",
        "Langkah ini penting untuk menjaga hanya kata-kata bermakna yang digunakan dalam pemodelan."
      ]
    },
    {
      "cell_type": "code",
      "execution_count": 19,
      "metadata": {
        "id": "H_olIc7-gshY"
      },
      "outputs": [],
      "source": [
        "# Fungsi untuk menghapus stopwords dari list token\n",
        "def filter_stopwords(teks):\n",
        "    # Memuat stopwords Bahasa Indonesia dan Inggris\n",
        "    daftar_stopwords = set(stopwords.words('indonesian'))\n",
        "    daftar_stopwords_english = set(stopwords.words('english'))\n",
        "\n",
        "    # Menggabungkan stopwords Bahasa Indonesia dan Inggris\n",
        "    daftar_stopwords.update(daftar_stopwords_english)\n",
        "\n",
        "    # Menambahkan stopwords tambahan (umum dalam bahasa informal)\n",
        "    daftar_stopwords.update([\n",
        "        'iya', 'yaa', 'gak', 'nya', 'na', 'sih', 'ku',\n",
        "        'di', 'ga', 'ya', 'gaa', 'loh', 'kah', 'woi', 'woii', 'woy'\n",
        "    ])\n",
        "\n",
        "    # Memfilter token yang bukan stopwords\n",
        "    hasil_filter = [kata for kata in teks if kata not in daftar_stopwords]\n",
        "\n",
        "    return hasil_filter"
      ]
    },
    {
      "cell_type": "markdown",
      "metadata": {
        "id": "UrrHMRTDgt_f"
      },
      "source": [
        "#### Pemrosesan Kata Slang (Bahasa Gaul)"
      ]
    },
    {
      "cell_type": "markdown",
      "metadata": {},
      "source": [
        "Ulasan pengguna sering kali mengandung **kata slang atau bahasa gaul** yang tidak baku, seperti \"gk\" untuk \"nggak\", atau \"bgt\" untuk \"banget\". Jika tidak ditangani, kata-kata ini bisa menurunkan akurasi analisis sentimen karena model kesulitan mengenali makna sebenarnya.\n",
        "\n",
        "Dalam tahap ini, dilakukan dua proses:\n",
        "1. **Memuat kamus slang** dari file JSON yang tersedia secara online melalui GitHub.\n",
        "2. **Mengganti kata slang** dengan bentuk bakunya agar pemrosesan teks menjadi lebih seragam.\n",
        "\n",
        "Fungsi `muat_kata_slang(url)`:\n",
        "- Mengambil file `slangwords.json` dari GitHub melalui URL mentah (`raw`).\n",
        "- File tersebut berisi pasangan key-value di mana *key* adalah slang dan *value* adalah kata baku.\n",
        "\n",
        "Fungsi `perbaiki_kata_slang(teks)`:\n",
        "- Memecah teks menjadi kata-kata individual.\n",
        "- Mengecek apakah setiap kata adalah slang (berdasarkan kamus).\n",
        "- Jika ya, diganti dengan kata baku sesuai kamus.\n",
        "\n",
        "Contoh:\n",
        "- Input: `\"aplikasinya bgt bagus\"`\n",
        "- Output: `\"aplikasinya banget bagus\"`"
      ]
    },
    {
      "cell_type": "code",
      "execution_count": 20,
      "metadata": {
        "id": "t3sIhqCygwSg"
      },
      "outputs": [],
      "source": [
        "# Fungsi untuk memuat daftar kata slang dari file JSON online\n",
        "def muat_kata_slang(url):\n",
        "    return requests.get(url).json()\n",
        "\n",
        "# URL raw GitHub yang berisi kamus kata slang\n",
        "url = \"https://raw.githubusercontent.com/azzhrdania/Proyek-Analisis-Sentimen-Gojek/refs/heads/main/Datasets/slangwords.json\"\n",
        "\n",
        "# Muat kamus slang ke dalam variabel\n",
        "kata_slang = muat_kata_slang(url)\n",
        "\n",
        "# Fungsi untuk mengganti kata slang dalam teks menjadi bentuk baku\n",
        "def perbaiki_kata_slang(teks):\n",
        "    kata_kata = teks.split()  # Pisahkan teks menjadi kata-kata\n",
        "    kata_diperbaiki = [\n",
        "        kata_slang[kata.lower()] if kata.lower() in kata_slang else kata\n",
        "        for kata in kata_kata\n",
        "    ]\n",
        "    return ' '.join(kata_diperbaiki)"
      ]
    },
    {
      "cell_type": "markdown",
      "metadata": {
        "id": "0FyyzJiNg0bd"
      },
      "source": [
        "#### Pipeline Pembersihan dan Normalisasi Teks"
      ]
    },
    {
      "cell_type": "markdown",
      "metadata": {},
      "source": [
        "Tahapan ini menggabungkan seluruh fungsi preprocessing menjadi satu rangkaian pipeline untuk membersihkan teks ulasan secara komprehensif. Proses ini sangat penting dalam analisis sentimen karena akan meningkatkan akurasi model dalam memahami makna sebenarnya dari teks.\n",
        "\n",
        "Berikut langkah-langkah yang dilakukan:\n",
        "\n",
        "1. **Pembersihan dasar teks (`clean_text`)**: Menghapus mention, hashtag, angka, dan tanda baca. Juga mengubah teks menjadi huruf kecil.\n",
        "2. **Normalisasi slang (`text_slangwords`)**: Mengganti kata-kata tidak baku (slang) menjadi bentuk formal sesuai kamus slang.\n",
        "3. **Tokenisasi (`text_tokenizing`)**: Memecah teks menjadi kata-kata individual.\n",
        "4. **Stopword Removal (`text_stopword`)**: Menghapus kata-kata umum yang tidak mengandung makna penting, baik dalam Bahasa Indonesia maupun Inggris.\n",
        "5. **Penggabungan kembali (`clean_content`)**: Menggabungkan kata-kata hasil filter menjadi satu kalimat bersih yang siap digunakan untuk analisis sentimen.\n",
        "\n",
        "Kolom akhir yang digunakan dalam proses pelabelan atau model training nantinya adalah `clean_content`."
      ]
    },
    {
      "cell_type": "code",
      "execution_count": 21,
      "metadata": {
        "id": "hET4kEKBg44Q"
      },
      "outputs": [],
      "source": [
        "# Menggabungkan daftar token menjadi satu kalimat\n",
        "def gabungkan_ke_kalimat(tokens):\n",
        "    return ' '.join(tokens)\n",
        "\n",
        "# Bersihkan teks dan simpan hasilnya di kolom 'clean_text'\n",
        "df['clean_text'] = df['content'].apply(proses_teks) # Changed 'bersihkan_teks' to 'proses_teks'\n",
        "\n",
        "# Ganti kata slang dengan kata standar dan simpan di 'text_slangwords'\n",
        "df['text_slangwords'] = df['clean_text'].apply(perbaiki_kata_slang)\n",
        "\n",
        "# Tokenisasi teks (pisah menjadi kata-kata) dan simpan di 'text_tokenizing'\n",
        "df['text_tokenizing'] = df['text_slangwords'].apply(tokenisasi_teks)\n",
        "\n",
        "# Hapus stopwords (kata umum) dan simpan hasilnya di 'text_stopword'\n",
        "df['text_stopword'] = df['text_tokenizing'].apply(filter_stopwords)\n",
        "\n",
        "# Gabungkan token menjadi kalimat dan simpan di 'clean_content'\n",
        "df['clean_content'] = df['text_stopword'].apply(gabungkan_ke_kalimat)"
      ]
    },
    {
      "cell_type": "markdown",
      "metadata": {
        "id": "BYah6B0Gg8Jf"
      },
      "source": [
        "#### Memuat Leksikon Sentimen (Positive & Negative Word Lists)"
      ]
    },
    {
      "cell_type": "markdown",
      "metadata": {},
      "source": [
        "Salah satu cara efektif dalam analisis sentimen adalah pendekatan berbasis **leksikon**. Di sini, kita menggunakan dua kamus kata opini berbahasa Indonesia yang bersumber dari GitHub.\n",
        "\n",
        "- **Leksikon Positif**: berisi kata-kata dengan konotasi positif.\n",
        "- **Leksikon Negatif**: berisi kata-kata dengan konotasi negatif.\n",
        "\n",
        "Kamus ini akan digunakan untuk memberi label sentimen berdasarkan jumlah kata positif dan negatif dalam teks ulasan."
      ]
    },
    {
      "cell_type": "code",
      "execution_count": 22,
      "metadata": {
        "colab": {
          "base_uri": "https://localhost:8080/"
        },
        "id": "ACoeoyBehBgw",
        "outputId": "8fd3c516-d204-4c6e-83f5-a3e0c49633dd"
      },
      "outputs": [
        {
          "name": "stdout",
          "output_type": "stream",
          "text": [
            "Jumlah kata positif: 1182\n",
            "Jumlah kata negatif: 2402\n"
          ]
        }
      ],
      "source": [
        "# Fungsi untuk mengambil data leksikon secara aman\n",
        "def ambil_lexikon(url):\n",
        "    response = requests.get(url)\n",
        "    if response.status_code == 200:\n",
        "        kata_kata = set(kata.strip() for kata in response.text.split(\"\\n\") if kata.strip())\n",
        "        return kata_kata\n",
        "    else:\n",
        "        print(f\"Gagal mengambil data dari {url}, kode status: {response.status_code}\")\n",
        "        return set()\n",
        "\n",
        "# Unduh dan muat leksikon kata positif\n",
        "url_positif = \"https://raw.githubusercontent.com/masdevid/ID-OpinionWords/master/positive.txt\"\n",
        "lexikon_positif = ambil_lexikon(url_positif)\n",
        "\n",
        "# Unduh dan muat leksikon kata negatif\n",
        "url_negatif = \"https://raw.githubusercontent.com/masdevid/ID-OpinionWords/master/negative.txt\"\n",
        "lexikon_negatif = ambil_lexikon(url_negatif)\n",
        "\n",
        "# Tampilkan statistik leksikon\n",
        "print(f\"Jumlah kata positif: {len(lexikon_positif)}\")\n",
        "print(f\"Jumlah kata negatif: {len(lexikon_negatif)}\")"
      ]
    },
    {
      "cell_type": "markdown",
      "metadata": {},
      "source": [
        "#### Menentukan Sentimen Ulasan Berdasarkan Leksikon"
      ]
    },
    {
      "cell_type": "markdown",
      "metadata": {},
      "source": [
        "Setelah data dibersihkan dan kata slang dinormalisasi, kini kita bisa **melabeli sentimen** setiap ulasan berdasarkan daftar kata positif dan negatif yang sudah dimuat sebelumnya.\n",
        "\n",
        "Pendekatan yang digunakan cukup sederhana namun efektif:\n",
        "- Setiap kata positif menambah skor ulasan (+1),\n",
        "- Setiap kata negatif mengurangi skor ulasan (–1),\n",
        "- Skor akhir akan menentukan label:\n",
        "  - Skor > 0: **positif**\n",
        "  - Skor < 0: **negatif**\n",
        "  - Skor = 0: **netral**"
      ]
    },
    {
      "cell_type": "code",
      "execution_count": 23,
      "metadata": {
        "colab": {
          "base_uri": "https://localhost:8080/"
        },
        "id": "FCZ3JdfbhDUH",
        "outputId": "4f14d0b3-c3cd-4a99-964b-3eac3ac7b8a9"
      },
      "outputs": [
        {
          "name": "stdout",
          "output_type": "stream",
          "text": [
            "sentimen\n",
            "netral     10214\n",
            "positif     8051\n",
            "negatif     1735\n",
            "Name: count, dtype: int64\n"
          ]
        }
      ],
      "source": [
        "# Menentukan label sentimen berdasarkan leksikon\n",
        "def tentukan_sentimen(teks):\n",
        "    skor = 0\n",
        "    for kata in teks:\n",
        "        if kata in lexikon_positif:\n",
        "            skor += 1\n",
        "        if kata in lexikon_negatif:\n",
        "            skor -= 1\n",
        "\n",
        "    if skor > 0:\n",
        "        sentimen = 'positif'\n",
        "    elif skor < 0:\n",
        "        sentimen = 'negatif'\n",
        "    else:\n",
        "        sentimen = 'netral'\n",
        "\n",
        "    return skor, sentimen\n",
        "\n",
        "# Terapkan pelabelan sentimen ke kolom 'text_stopword'\n",
        "hasil_sentimen = df['text_stopword'].apply(tentukan_sentimen)\n",
        "hasil_sentimen = list(zip(*hasil_sentimen))\n",
        "df['sentimen_skor'] = hasil_sentimen[0]\n",
        "df['sentimen'] = hasil_sentimen[1]\n",
        "\n",
        "# Tampilkan jumlah masing-masing kategori sentimen\n",
        "print(df['sentimen'].value_counts())"
      ]
    },
    {
      "cell_type": "markdown",
      "metadata": {
        "id": "-7ZlgN7WhHq3"
      },
      "source": [
        "#### Visualisasi Distribusi Sentimen Ulasan Grab"
      ]
    },
    {
      "cell_type": "markdown",
      "metadata": {},
      "source": [
        "Setelah proses pelabelan sentimen selesai, sekarang kita tampilkan **visualisasi distribusi sentimen** dalam bentuk **diagram pie**. Tujuan visualisasi ini adalah untuk memberikan gambaran cepat tentang proporsi ulasan yang bersentimen positif, negatif, maupun netral."
      ]
    },
    {
      "cell_type": "code",
      "execution_count": 24,
      "metadata": {
        "colab": {
          "base_uri": "https://localhost:8080/",
          "height": 675
        },
        "id": "Wru694SWhNKI",
        "outputId": "cbdf7acf-722b-4846-9111-34302ceefe31"
      },
      "outputs": [
        {
          "data": {
            "image/png": "[encoded data removed]",
            "text/plain": [
              "<Figure size 800x800 with 1 Axes>"
            ]
          },
          "metadata": {},
          "output_type": "display_data"
        }
      ],
      "source": [
        "# Hitung jumlah setiap kategori sentimen\n",
        "jumlah_sentimen = df['sentimen'].value_counts()\n",
        "\n",
        "# Tampilkan diagram pie untuk distribusi sentimen\n",
        "plt.figure(figsize=(8, 8))\n",
        "plt.pie(jumlah_sentimen, \n",
        "        labels=jumlah_sentimen.index, \n",
        "        autopct='%1.1f%%', \n",
        "        startangle=140, \n",
        "        colors=sns.color_palette(\"Set2\"))\n",
        "plt.title('Distribusi Sentimen')\n",
        "plt.axis('equal')  # Supaya pie-nya bulat sempurna\n",
        "plt.show()"
      ]
    },
    {
      "cell_type": "markdown",
      "metadata": {},
      "source": [
        "#### Visualisasi Histogram Skor Sentimen"
      ]
    },
    {
      "cell_type": "markdown",
      "metadata": {},
      "source": [
        "Untuk memahami lebih dalam bagaimana skor sentimen tersebar dalam dataset, kita gunakan **histogram**. Grafik ini menunjukkan seberapa sering skor-skor tertentu muncul, sehingga kita bisa melihat apakah pengguna cenderung memberi ulasan dengan nada sangat positif, sangat negatif, atau netral."
      ]
    },
    {
      "cell_type": "code",
      "execution_count": 25,
      "metadata": {
        "colab": {
          "base_uri": "https://localhost:8080/",
          "height": 410
        },
        "id": "8s81qjPqhPvr",
        "outputId": "eae3b776-ba9d-4418-a4ad-d3a86d38f6d8"
      },
      "outputs": [
        {
          "data": {
            "image/png": "[encoded data removed]",
            "text/plain": [
              "<Figure size 800x400 with 1 Axes>"
            ]
          },
          "metadata": {},
          "output_type": "display_data"
        }
      ],
      "source": [
        "# Tampilkan distribusi skor sentimen menggunakan histogram\n",
        "plt.figure(figsize=(8, 4))\n",
        "sns.histplot(df['sentimen_skor'], bins=30, kde=True, color='skyblue')\n",
        "plt.title('Distribusi Skor Sentimen')\n",
        "plt.xlabel('Skor Sentimen')\n",
        "plt.ylabel('Frekuensi')\n",
        "plt.grid(axis='y', linestyle='--', alpha=0.7)\n",
        "plt.tight_layout()\n",
        "plt.show()"
      ]
    },
    {
      "cell_type": "markdown",
      "metadata": {
        "id": "RDhL1_TUhdJ_"
      },
      "source": [
        "### Data Preparation"
      ]
    },
    {
      "cell_type": "markdown",
      "metadata": {
        "id": "WQygFYlThiOH"
      },
      "source": [
        "#### Menyiapkan Fitur dan Label untuk Model Machine Learning"
      ]
    },
    {
      "cell_type": "markdown",
      "metadata": {},
      "source": [
        "Sebelum membangun model, kita perlu menyiapkan data dalam format yang bisa dipahami oleh algoritma pembelajaran mesin.\n",
        "\n",
        "- **Fitur (`fitur`)** diambil dari kolom `clean_content`, yaitu teks ulasan yang telah melalui proses pembersihan, tokenisasi, penghilangan stopwords, dan normalisasi kata slang.\n",
        "- **Label (`label`)** berasal dari kolom `sentimen`, yang kemudian dikonversi ke bentuk numerik:\n",
        "  - `0` untuk sentimen *negatif*\n",
        "  - `1` untuk sentimen *netral*\n",
        "  - `2` untuk sentimen *positif*\n",
        "\n",
        "Konversi ini diperlukan karena sebagian besar algoritma pembelajaran mesin hanya dapat bekerja dengan data numerik."
      ]
    },
    {
      "cell_type": "code",
      "execution_count": 26,
      "metadata": {
        "id": "jMkGExghhlqz"
      },
      "outputs": [],
      "source": [
        "# Ambil kolom 'clean_content' sebagai fitur (X) dan 'sentimen' sebagai label (y)\n",
        "fitur = df['clean_content']\n",
        "label = df['sentimen'].map({'positif': 2, 'netral': 1, 'negatif': 0})  # Label numerik"
      ]
    },
    {
      "cell_type": "markdown",
      "metadata": {
        "id": "Uf9osp69hm9D"
      },
      "source": [
        "### Feature Engineering\n",
        "\n"
      ]
    },
    {
      "cell_type": "markdown",
      "metadata": {},
      "source": [
        "#### Vektorisasi Teks Menggunakan TF-IDF"
      ]
    },
    {
      "cell_type": "markdown",
      "metadata": {},
      "source": [
        "Sebelum melatih model machine learning, teks perlu diubah ke bentuk numerik. Di tahap ini, kita gunakan TF-IDF (Term Frequency-Inverse Document Frequency) untuk mengonversi teks menjadi representasi vektor. Ini membantu model mengenali kata-kata yang penting dan membedakan dokumen satu dengan lainnya. Kita batasi hingga 10.000 fitur untuk menjaga efisiensi dan menghindari noise."
      ]
    },
    {
      "cell_type": "code",
      "execution_count": 27,
      "metadata": {
        "colab": {
          "base_uri": "https://localhost:8080/"
        },
        "id": "wzaU9IqChsmH",
        "outputId": "f1c29a3f-3c1f-4917-e65f-0362ece60d25"
      },
      "outputs": [
        {
          "name": "stdout",
          "output_type": "stream",
          "text": [
            "Ringkasan Fitur dan Data:\n",
            "Dimensi fitur TF-IDF: (20000, 9464)\n"
          ]
        }
      ],
      "source": [
        "# Transformasi teks ke vektor angka menggunakan TF-IDF\n",
        "tfidf = TfidfVectorizer(max_features=10000)\n",
        "fitur_tfidf = tfidf.fit_transform(fitur)\n",
        "\n",
        "# Menampilkan dimensi data hasil vektorisasi\n",
        "print(\"Ringkasan Fitur dan Data:\")\n",
        "print(f\"Dimensi fitur TF-IDF: {fitur_tfidf.shape}\")"
      ]
    },
    {
      "cell_type": "markdown",
      "metadata": {
        "id": "mB6Tky-sh7TW"
      },
      "source": [
        "#### Praprocessing Teks untuk Model LSTM"
      ]
    },
    {
      "cell_type": "markdown",
      "metadata": {},
      "source": [
        "Agar data teks bisa diproses oleh model deep learning seperti LSTM, kita perlu mengubahnya menjadi bentuk numerik berurutan. Di tahap ini, kita menggunakan Tokenizer dari Keras untuk mengubah setiap kata menjadi angka berdasarkan frekuensinya. Lalu, semua data dipadatkan ke panjang yang seragam (maksimal 100 kata per review) agar bisa diproses dalam batch oleh jaringan neural."
      ]
    },
    {
      "cell_type": "code",
      "execution_count": 28,
      "metadata": {
        "id": "WDH3fmfbh9yi"
      },
      "outputs": [],
      "source": [
        "# Menginisialisasi tokenizer dan membatasi jumlah kata unik sebanyak 10.000\n",
        "tokenizer = Tokenizer(num_words=10000)\n",
        "\n",
        "# Menyesuaikan tokenizer dengan teks yang telah dibersihkan\n",
        "tokenizer.fit_on_texts(fitur)\n",
        "\n",
        "# Mengubah teks menjadi urutan angka berdasarkan kamus tokenizer\n",
        "fitur_sekuensial = tokenizer.texts_to_sequences(fitur)\n",
        "\n",
        "# Menyamakan panjang urutan dengan padding (maksimal 100 kata)\n",
        "fitur_padat = pad_sequences(fitur_sekuensial, maxlen=100)"
      ]
    },
    {
      "cell_type": "markdown",
      "metadata": {
        "id": "tf45uP0lh_Iu"
      },
      "source": [
        "#### Menampilkan Statistik Data untuk Pelatihan Model"
      ]
    },
    {
      "cell_type": "markdown",
      "metadata": {},
      "source": [
        "Sebelum melatih model LSTM, penting untuk memahami dimensi data dan jumlah kelas target. Di sini, kita menghitung berapa banyak kategori sentimen yang tersedia (positif, netral, negatif), serta ukuran dari fitur yang telah diproses dan ukuran total kosa kata (jumlah kata unik) yang terdeteksi oleh tokenizer."
      ]
    },
    {
      "cell_type": "code",
      "execution_count": 29,
      "metadata": {
        "colab": {
          "base_uri": "https://localhost:8080/"
        },
        "id": "4xKP58TuiC1Y",
        "outputId": "bbc1d840-6ce1-43ba-ec0d-cf3b76b15042"
      },
      "outputs": [
        {
          "name": "stdout",
          "output_type": "stream",
          "text": [
            "Jumlah kelas: 3\n",
            "Dimensi urutan fitur: (20000, 100)\n",
            "\n",
            "Ukuran kosa kata: 9492 kata\n"
          ]
        }
      ],
      "source": [
        "# Menghitung jumlah kelas sentimen\n",
        "jumlah_kelas = len(np.unique(label))\n",
        "print(f\"Jumlah kelas: {jumlah_kelas}\")\n",
        "\n",
        "# Menampilkan dimensi dari fitur hasil padding\n",
        "print(f\"Dimensi urutan fitur: {fitur_padat.shape}\")\n",
        "\n",
        "# Menampilkan ukuran kosa kata dari tokenizer\n",
        "kosa_kata_index = tokenizer.word_index\n",
        "print(f\"\\nUkuran kosa kata: {len(kosa_kata_index)} kata\")"
      ]
    },
    {
      "cell_type": "markdown",
      "metadata": {
        "id": "Xg711_CKiEQ9"
      },
      "source": [
        "### Model Training & Evaluation"
      ]
    },
    {
      "cell_type": "markdown",
      "metadata": {
        "id": "8mnq29G7iH22"
      },
      "source": [
        "#### Deep Learning Model (LSTM)\n"
      ]
    },
    {
      "cell_type": "markdown",
      "metadata": {},
      "source": [
        "##### Membagi Dataset untuk Pelatihan, Validasi, dan Pengujian"
      ]
    },
    {
      "cell_type": "markdown",
      "metadata": {},
      "source": [
        "Agar model LSTM dapat dievaluasi secara objektif, data perlu dibagi ke dalam tiga subset: pelatihan (70%), pengujian (20%), dan validasi (10%). Pembagian ini membantu dalam menguji kinerja model secara adil dan menghindari overfitting. Hasil dari proses ini adalah tiga bagian data dengan jumlah sampel yang dihitung dan ditampilkan."
      ]
    },
    {
      "cell_type": "code",
      "execution_count": 30,
      "metadata": {
        "colab": {
          "base_uri": "https://localhost:8080/"
        },
        "id": "A5MF253PiHan",
        "outputId": "96670249-6de4-43b2-b86d-d4791035fa2d"
      },
      "outputs": [
        {
          "name": "stdout",
          "output_type": "stream",
          "text": [
            "Total Sampel:\n",
            "Set pelatihan: 14000 sampel\n",
            "Set validasi : 2000 sampel\n",
            "Set pengujian: 4000 sampel\n"
          ]
        }
      ],
      "source": [
        "# Membagi data menjadi: pelatihan (70%), pengujian (20%), dan validasi (10%)\n",
        "fitur_latih_lstm, fitur_uji_lstm, label_latih_lstm, label_uji_lstm = train_test_split(\n",
        "    fitur_padat, label, test_size=0.2, random_state=42\n",
        ")\n",
        "\n",
        "# Mengambil 10% dari 80% data latih sebagai data validasi (0.1 / 0.8 = 0.125)\n",
        "fitur_latih_lstm, fitur_validasi_lstm, label_latih_lstm, label_validasi_lstm = train_test_split(\n",
        "    fitur_latih_lstm, label_latih_lstm, test_size=0.125, random_state=42\n",
        ")\n",
        "\n",
        "# Menampilkan jumlah sampel di setiap subset\n",
        "print(\"Total Sampel:\")\n",
        "print(f\"Set pelatihan: {fitur_latih_lstm.shape[0]} sampel\")\n",
        "print(f\"Set validasi : {fitur_validasi_lstm.shape[0]} sampel\")\n",
        "print(f\"Set pengujian: {fitur_uji_lstm.shape[0]} sampel\")"
      ]
    },
    {
      "cell_type": "markdown",
      "metadata": {},
      "source": [
        "##### Membangun dan Melatih Model LSTM untuk Klasifikasi Sentimen"
      ]
    },
    {
      "cell_type": "markdown",
      "metadata": {},
      "source": [
        "Model LSTM dikonfigurasi dengan lapisan embedding untuk merepresentasikan kata, diikuti dengan dropout spasial untuk mencegah overfitting. Lapisan LSTM digunakan untuk menangkap konteks urutan, dan output diklasifikasikan ke dalam tiga kategori sentimen melalui softmax. Proses pelatihan dilengkapi dengan callback `EarlyStopping` dan `ReduceLROnPlateau` untuk menghentikan pelatihan saat performa stagnan dan menyesuaikan laju pembelajaran secara otomatis."
      ]
    },
    {
      "cell_type": "code",
      "execution_count": 31,
      "metadata": {
        "colab": {
          "base_uri": "https://localhost:8080/"
        },
        "id": "o5ycj3RBiMsK",
        "outputId": "dc800760-b848-495f-c228-816880a50eef"
      },
      "outputs": [
        {
          "name": "stdout",
          "output_type": "stream",
          "text": [
            "Epoch 1/15\n",
            "\u001b[1m219/219\u001b[0m \u001b[32m━━━━━━━━━━━━━━━━━━━━\u001b[0m\u001b[37m\u001b[0m \u001b[1m27s\u001b[0m 106ms/step - accuracy: 0.6856 - loss: 0.6556 - val_accuracy: 0.8990 - val_loss: 0.2678 - learning_rate: 0.0010\n",
            "Epoch 2/15\n",
            "\u001b[1m219/219\u001b[0m \u001b[32m━━━━━━━━━━━━━━━━━━━━\u001b[0m\u001b[37m\u001b[0m \u001b[1m22s\u001b[0m 99ms/step - accuracy: 0.9219 - loss: 0.2057 - val_accuracy: 0.9380 - val_loss: 0.1714 - learning_rate: 0.0010\n",
            "Epoch 3/15\n",
            "\u001b[1m219/219\u001b[0m \u001b[32m━━━━━━━━━━━━━━━━━━━━\u001b[0m\u001b[37m\u001b[0m \u001b[1m21s\u001b[0m 98ms/step - accuracy: 0.9694 - loss: 0.0957 - val_accuracy: 0.9435 - val_loss: 0.1477 - learning_rate: 0.0010\n",
            "Epoch 4/15\n",
            "\u001b[1m219/219\u001b[0m \u001b[32m━━━━━━━━━━━━━━━━━━━━\u001b[0m\u001b[37m\u001b[0m \u001b[1m21s\u001b[0m 95ms/step - accuracy: 0.9805 - loss: 0.0585 - val_accuracy: 0.9490 - val_loss: 0.1410 - learning_rate: 0.0010\n",
            "Epoch 5/15\n",
            "\u001b[1m219/219\u001b[0m \u001b[32m━━━━━━━━━━━━━━━━━━━━\u001b[0m\u001b[37m\u001b[0m \u001b[1m21s\u001b[0m 97ms/step - accuracy: 0.9875 - loss: 0.0333 - val_accuracy: 0.9560 - val_loss: 0.1339 - learning_rate: 0.0010\n",
            "Epoch 6/15\n",
            "\u001b[1m219/219\u001b[0m \u001b[32m━━━━━━━━━━━━━━━━━━━━\u001b[0m\u001b[37m\u001b[0m \u001b[1m21s\u001b[0m 95ms/step - accuracy: 0.9923 - loss: 0.0257 - val_accuracy: 0.9520 - val_loss: 0.1547 - learning_rate: 0.0010\n",
            "Epoch 7/15\n",
            "\u001b[1m219/219\u001b[0m \u001b[32m━━━━━━━━━━━━━━━━━━━━\u001b[0m\u001b[37m\u001b[0m \u001b[1m21s\u001b[0m 96ms/step - accuracy: 0.9951 - loss: 0.0177 - val_accuracy: 0.9505 - val_loss: 0.1485 - learning_rate: 0.0010\n"
          ]
        }
      ],
      "source": [
        "# Membuat model LSTM untuk klasifikasi sentimen\n",
        "model_lstm = Sequential([\n",
        "    Embedding(input_dim=10000, output_dim=128, input_length=100),       # Representasi kata dalam vektor\n",
        "    SpatialDropout1D(0.4),                                               # Dropout untuk regularisasi\n",
        "    LSTM(128, dropout=0.3, recurrent_dropout=0.3),                       # LSTM untuk memahami urutan kata\n",
        "    Dense(3, activation='softmax')                                       # Output 3 kelas sentimen\n",
        "])\n",
        "\n",
        "# Menyusun model dengan loss dan optimizer\n",
        "model_lstm.compile(\n",
        "    loss='sparse_categorical_crossentropy',\n",
        "    optimizer=Adam(),\n",
        "    metrics=['accuracy']\n",
        ")\n",
        "\n",
        "# Callback untuk kontrol pelatihan\n",
        "callback_early_stopping = EarlyStopping(\n",
        "    monitor='val_loss',\n",
        "    patience=2,\n",
        "    restore_best_weights=True\n",
        ")\n",
        "callback_lr_reduction = ReduceLROnPlateau(\n",
        "    monitor='val_loss',\n",
        "    factor=0.5,\n",
        "    patience=2\n",
        ")\n",
        "\n",
        "# Daftar callback\n",
        "callbacks = [callback_early_stopping, callback_lr_reduction]\n",
        "\n",
        "# Menjalankan pelatihan model\n",
        "riwayat_latihan = model_lstm.fit(\n",
        "    fitur_latih_lstm, label_latih_lstm,\n",
        "    validation_data=(fitur_validasi_lstm, label_validasi_lstm),\n",
        "    epochs=15,\n",
        "    batch_size=64,\n",
        "    verbose=1,\n",
        "    callbacks=callbacks\n",
        ")"
      ]
    },
    {
      "cell_type": "markdown",
      "metadata": {},
      "source": [
        "##### Evaluasi dan Visualisasi Performa Model LSTM"
      ]
    },
    {
      "cell_type": "markdown",
      "metadata": {},
      "source": [
        "Setelah pelatihan selesai, model dievaluasi menggunakan data pengujian untuk mengukur kinerjanya di luar data latih. Akurasi pelatihan terakhir dibandingkan dengan akurasi pengujian. Model juga menghasilkan laporan klasifikasi yang menunjukkan presisi, recall, dan F1-score untuk masing-masing kategori sentimen. Untuk analisis visual, grafik loss dan akurasi selama epoch ditampilkan untuk memantau kestabilan model selama pelatihan."
      ]
    },
    {
      "cell_type": "code",
      "execution_count": 32,
      "metadata": {
        "colab": {
          "base_uri": "https://localhost:8080/",
          "height": 876
        },
        "id": "qEJZYhc3iO7m",
        "outputId": "3aa4934e-75eb-46aa-c1bc-e952f3234713"
      },
      "outputs": [
        {
          "name": "stdout",
          "output_type": "stream",
          "text": [
            "\u001b[1m125/125\u001b[0m \u001b[32m━━━━━━━━━━━━━━━━━━━━\u001b[0m\u001b[37m\u001b[0m \u001b[1m2s\u001b[0m 16ms/step - accuracy: 0.9536 - loss: 0.1628\n",
            "\n",
            "Evaluasi Model LSTM\n",
            "Akurasi pelatihan per epoch terakhir: 0.9946\n",
            "Akurasi pengujian akhir: 0.9520\n",
            "\u001b[1m125/125\u001b[0m \u001b[32m━━━━━━━━━━━━━━━━━━━━\u001b[0m\u001b[37m\u001b[0m \u001b[1m2s\u001b[0m 15ms/step\n",
            "\n",
            "Laporan Klasifikasi:\n",
            "              precision    recall  f1-score   support\n",
            "\n",
            "     negatif       0.88      0.82      0.85       365\n",
            "      netral       0.95      0.96      0.96      2032\n",
            "     positif       0.97      0.97      0.97      1603\n",
            "\n",
            "    accuracy                           0.95      4000\n",
            "   macro avg       0.93      0.92      0.92      4000\n",
            "weighted avg       0.95      0.95      0.95      4000\n",
            "\n"
          ]
        },
        {
          "data": {
            "image/png": "[encoded data removed]",
            "text/plain": [
              "<Figure size 1200x600 with 2 Axes>"
            ]
          },
          "metadata": {},
          "output_type": "display_data"
        }
      ],
      "source": [
        "# Mengambil nilai akurasi pelatihan terakhir\n",
        "akurasi_latih = riwayat_latihan.history['accuracy']\n",
        "\n",
        "# Evaluasi terhadap data pengujian\n",
        "kerugian_uji, akurasi_lstm = model_lstm.evaluate(fitur_uji_lstm, label_uji_lstm)\n",
        "\n",
        "# Menampilkan hasil evaluasi\n",
        "print(\"\\nEvaluasi Model LSTM\")\n",
        "print(f\"Akurasi pelatihan per epoch terakhir: {akurasi_latih[-1]:.4f}\")\n",
        "print(f\"Akurasi pengujian akhir: {akurasi_lstm:.4f}\")\n",
        "\n",
        "# Prediksi terhadap data uji\n",
        "y_prediksi = np.argmax(model_lstm.predict(fitur_uji_lstm), axis=1)\n",
        "\n",
        "# Menampilkan laporan klasifikasi berdasarkan label sebenarnya\n",
        "print(\"\\nLaporan Klasifikasi:\")\n",
        "print(classification_report(label_uji_lstm, y_prediksi, target_names=['negatif', 'netral', 'positif']))\n",
        "\n",
        "# Visualisasi loss dan akurasi selama pelatihan\n",
        "plt.figure(figsize=(12, 6))\n",
        "\n",
        "# Plot loss\n",
        "plt.subplot(1, 2, 1)\n",
        "plt.plot(riwayat_latihan.history['loss'], label='Loss Pelatihan')\n",
        "plt.plot(riwayat_latihan.history['val_loss'], label='Loss Validasi')\n",
        "plt.title('Perkembangan Loss Selama Pelatihan')\n",
        "plt.xlabel('Epoch')\n",
        "plt.ylabel('Loss')\n",
        "plt.legend()\n",
        "\n",
        "# Plot akurasi\n",
        "plt.subplot(1, 2, 2)\n",
        "plt.plot(riwayat_latihan.history['accuracy'], label='Akurasi Pelatihan')\n",
        "plt.plot(riwayat_latihan.history['val_accuracy'], label='Akurasi Validasi')\n",
        "plt.title('Perkembangan Akurasi Selama Pelatihan')\n",
        "plt.xlabel('Epoch')\n",
        "plt.ylabel('Akurasi')\n",
        "plt.legend()\n",
        "\n",
        "plt.tight_layout()\n",
        "plt.show()"
      ]
    },
    {
      "cell_type": "markdown",
      "metadata": {},
      "source": [
        "##### Visualisasi Confusion Matrix Model LSTM"
      ]
    },
    {
      "cell_type": "markdown",
      "metadata": {},
      "source": [
        "Confusion matrix memberikan gambaran mendalam mengenai prediksi model terhadap setiap kelas sentimen. Matriks ini membantu mengidentifikasi seberapa baik model membedakan antara sentimen negatif, netral, dan positif. Warna yang lebih gelap menunjukkan jumlah prediksi yang lebih banyak. Idealnya, prediksi akan terkonsentrasi di diagonal utama (yang menunjukkan prediksi benar)."
      ]
    },
    {
      "cell_type": "code",
      "execution_count": 33,
      "metadata": {},
      "outputs": [
        {
          "data": {
            "image/png": "[encoded data removed]",
            "text/plain": [
              "<Figure size 600x500 with 2 Axes>"
            ]
          },
          "metadata": {},
          "output_type": "display_data"
        }
      ],
      "source": [
        "# Membuat confusion matrix\n",
        "matriks_konfusi = confusion_matrix(label_uji_lstm, y_prediksi)\n",
        "\n",
        "# Menentukan label kelas\n",
        "label_kategori = ['Negatif', 'Netral', 'Positif']\n",
        "\n",
        "# Menampilkan confusion matrix dengan heatmap\n",
        "plt.figure(figsize=(6, 5))\n",
        "sns.heatmap(matriks_konfusi, annot=True, fmt='d', cmap='Blues',\n",
        "            xticklabels=label_kategori, yticklabels=label_kategori)\n",
        "plt.title('Confusion Matrix Sentimen')\n",
        "plt.xlabel('Prediksi')\n",
        "plt.ylabel('Aktual')\n",
        "plt.tight_layout()\n",
        "plt.show()"
      ]
    },
    {
      "cell_type": "markdown",
      "metadata": {},
      "source": [
        "##### Menghitung Akurasi, Precision, Recall, dan F1-score dari Confusion Matrix"
      ]
    },
    {
      "cell_type": "markdown",
      "metadata": {},
      "source": [
        "Selain menampilkan confusion matrix, penting juga untuk menghitung metrik evaluasi seperti akurasi, precision, recall, dan F1-score secara manual. Ini membantu memahami performa model secara menyeluruh pada setiap kelas. Dengan melihat nilai-nilai ini, kita dapat mengetahui apakah model condong ke salah satu kelas, atau bekerja secara seimbang."
      ]
    },
    {
      "cell_type": "code",
      "execution_count": 34,
      "metadata": {},
      "outputs": [
        {
          "name": "stdout",
          "output_type": "stream",
          "text": [
            "Confusion Matrix:\n",
            "[[ 299   62    4]\n",
            " [  36 1947   49]\n",
            " [   5   36 1562]]\n",
            "\n",
            "Kelas: Negatif\n",
            "  Precision: 0.8794\n",
            "  Recall:    0.8192\n",
            "  F1-score:  0.8482\n",
            "\n",
            "Kelas: Netral\n",
            "  Precision: 0.9521\n",
            "  Recall:    0.9582\n",
            "  F1-score:  0.9551\n",
            "\n",
            "Kelas: Positif\n",
            "  Precision: 0.9672\n",
            "  Recall:    0.9744\n",
            "  F1-score:  0.9708\n",
            "\n",
            "Akurasi Keseluruhan: 0.9520\n"
          ]
        }
      ],
      "source": [
        "# Ambil nilai dari confusion matrix\n",
        "TN, FP, FN, TP = None, None, None, None  # placeholder untuk binary, kita hitung secara multi-kelas\n",
        "\n",
        "# Mengambil nilai matrix\n",
        "cm = confusion_matrix(label_uji_lstm, y_prediksi)\n",
        "print(\"Confusion Matrix:\")\n",
        "print(cm)\n",
        "\n",
        "# Hitung metrik per kelas\n",
        "for i, kelas in enumerate(['Negatif', 'Netral', 'Positif']):\n",
        "    TP = cm[i, i]\n",
        "    FP = cm[:, i].sum() - TP\n",
        "    FN = cm[i, :].sum() - TP\n",
        "    TN = cm.sum() - (TP + FP + FN)\n",
        "\n",
        "    precision = TP / (TP + FP) if (TP + FP) != 0 else 0\n",
        "    recall = TP / (TP + FN) if (TP + FN) != 0 else 0\n",
        "    f1 = 2 * precision * recall / (precision + recall) if (precision + recall) != 0 else 0\n",
        "\n",
        "    print(f\"\\nKelas: {kelas}\")\n",
        "    print(f\"  Precision: {precision:.4f}\")\n",
        "    print(f\"  Recall:    {recall:.4f}\")\n",
        "    print(f\"  F1-score:  {f1:.4f}\")\n",
        "\n",
        "# Hitung akurasi keseluruhan\n",
        "akurasi_total = np.trace(cm) / np.sum(cm)\n",
        "print(f\"\\nAkurasi Keseluruhan: {akurasi_total:.4f}\")"
      ]
    },
    {
      "cell_type": "markdown",
      "metadata": {
        "id": "JXZhyW1QiRIg"
      },
      "source": [
        "#### Traditional Machine Learning Models"
      ]
    },
    {
      "cell_type": "markdown",
      "metadata": {
        "id": "4AQvH4sYibrj"
      },
      "source": [
        "#### SVM + TF-IDF (80/20)"
      ]
    },
    {
      "cell_type": "markdown",
      "metadata": {},
      "source": [
        "##### Membagi Data Pelatihan dan Pengujian"
      ]
    },
    {
      "cell_type": "markdown",
      "metadata": {},
      "source": [
        "Sebelum melatih model Support Vector Machine (SVM), data perlu dipisahkan terlebih dahulu ke dalam set pelatihan dan set pengujian. Pembagian ini penting agar kita bisa mengukur performa model secara objektif terhadap data yang belum pernah dilihat sebelumnya. Pada kasus ini, kita akan menggunakan 80% data untuk pelatihan dan 20% untuk pengujian."
      ]
    },
    {
      "cell_type": "code",
      "execution_count": 38,
      "metadata": {
        "colab": {
          "base_uri": "https://localhost:8080/"
        },
        "id": "1KTebOQjiU6G",
        "outputId": "87a881c9-31cd-4085-bc77-8ade7294fcbd"
      },
      "outputs": [
        {
          "name": "stdout",
          "output_type": "stream",
          "text": [
            "Total Sampel:\n",
            "Set pelatihan: 16000 sampel\n",
            "Set pengujian: 4000 sampel\n"
          ]
        }
      ],
      "source": [
        "# Membagi Data menjadi Set Pelatihan dan Pengujian\n",
        "X_latih_svm, X_uji_svm, y_latih_svm, y_uji_svm = train_test_split(fitur_tfidf, label, test_size=0.2, random_state=42)\n",
        "\n",
        "print(\"Total Sampel:\")\n",
        "print(f\"Set pelatihan: {X_latih_svm.shape[0]} sampel\")\n",
        "print(f\"Set pengujian: {X_uji_svm.shape[0]} sampel\")"
      ]
    },
    {
      "cell_type": "markdown",
      "metadata": {},
      "source": [
        "##### Pelatihan dan Prediksi Model SVM"
      ]
    },
    {
      "cell_type": "markdown",
      "metadata": {},
      "source": [
        "Setelah data dibagi, kita melatih model Support Vector Machine (SVM) menggunakan kernel linear karena cocok untuk klasifikasi teks. Kemudian, model digunakan untuk memprediksi label sentimen dari data pengujian."
      ]
    },
    {
      "cell_type": "code",
      "execution_count": 39,
      "metadata": {
        "id": "vFexOrFHiWe-"
      },
      "outputs": [],
      "source": [
        "# Inisialisasi Model SVM dengan Kernel Linear\n",
        "model_svm = SVC(kernel='linear', probability=True)\n",
        "\n",
        "# Latih Model\n",
        "model_svm.fit(X_latih_svm, y_latih_svm)\n",
        "\n",
        "# Lakukan Prediksi\n",
        "y_pred_svm = model_svm.predict(X_uji_svm)"
      ]
    },
    {
      "cell_type": "markdown",
      "metadata": {},
      "source": [
        "##### Evaluasi Model SVM Berbasis TF-IDF"
      ]
    },
    {
      "cell_type": "markdown",
      "metadata": {},
      "source": [
        "Setelah pelatihan, performa model Support Vector Machine (SVM) dievaluasi dengan menghitung akurasi pada data pelatihan dan pengujian. Selain itu, laporan klasifikasi memberikan wawasan tentang presisi, recall, dan F1-score dari masing-masing kelas sentimen. Untuk visualisasi, digunakan confusion matrix (matriks kebingungan) agar lebih mudah memahami prediksi yang salah dan benar."
      ]
    },
    {
      "cell_type": "code",
      "execution_count": 40,
      "metadata": {
        "colab": {
          "base_uri": "https://localhost:8080/",
          "height": 902
        },
        "id": "XOqe6OOhiYBe",
        "outputId": "36332683-661b-43dc-d297-7cedcc09b7ee"
      },
      "outputs": [
        {
          "name": "stdout",
          "output_type": "stream",
          "text": [
            "\n",
            "Evaluasi Model SVM + TF-IDF\n",
            "\n",
            "Akurasi Latih: 0.9790\n",
            "Akurasi Uji: 0.9393\n",
            "\n",
            "Laporan Klasifikasi:\n",
            "              precision    recall  f1-score   support\n",
            "\n",
            "     negatif       0.92      0.67      0.78       365\n",
            "      netral       0.91      0.98      0.94      2032\n",
            "     positif       0.98      0.95      0.97      1603\n",
            "\n",
            "    accuracy                           0.94      4000\n",
            "   macro avg       0.94      0.87      0.90      4000\n",
            "weighted avg       0.94      0.94      0.94      4000\n",
            "\n"
          ]
        },
        {
          "data": {
            "image/png": "[encoded data removed]",
            "text/plain": [
              "<Figure size 800x600 with 2 Axes>"
            ]
          },
          "metadata": {},
          "output_type": "display_data"
        }
      ],
      "source": [
        "# Evaluasi Model\n",
        "akurasi_latih_svm = accuracy_score(y_latih_svm, model_svm.predict(X_latih_svm))\n",
        "akurasi_svm = accuracy_score(y_uji_svm, y_pred_svm)\n",
        "\n",
        "print(\"\\nEvaluasi Model SVM + TF-IDF\")\n",
        "print(f'\\nAkurasi Latih: {akurasi_latih_svm:.4f}')\n",
        "print(f'Akurasi Uji: {akurasi_svm:.4f}')\n",
        "\n",
        "print(\"\\nLaporan Klasifikasi:\")\n",
        "print(classification_report(y_uji_svm, y_pred_svm, target_names=['negatif', 'netral', 'positif']))\n",
        "\n",
        "# Plot Matriks Kebingungannya\n",
        "plt.figure(figsize=(8, 6))\n",
        "cm = confusion_matrix(y_uji_svm, y_pred_svm)\n",
        "sns.heatmap(cm, annot=True, fmt='d', cmap='Blues', xticklabels=['negatif', 'netral', 'positif'],\n",
        "            yticklabels=['negatif', 'netral', 'positif'])\n",
        "plt.title('Matriks Kebingungannya SVM')\n",
        "plt.xlabel('Prediksi')\n",
        "plt.ylabel('Aktual')\n",
        "plt.tight_layout()\n",
        "plt.show()"
      ]
    },
    {
      "cell_type": "markdown",
      "metadata": {
        "id": "28rOPPI3ifVW"
      },
      "source": [
        "#### Random Forest + TF-IDF (70/30)"
      ]
    },
    {
      "cell_type": "markdown",
      "metadata": {},
      "source": [
        "##### Membagi Data Pelatihan dan Pengujian"
      ]
    },
    {
      "cell_type": "markdown",
      "metadata": {},
      "source": [
        "Langkah ini bertujuan untuk memisahkan data fitur dan label menjadi dua bagian utama: 70% digunakan untuk proses pelatihan model dan 30% sisanya untuk pengujian performa model Random Forest. Pembagian dilakukan secara acak namun konsisten dengan menetapkan seed agar hasilnya dapat direproduksi."
      ]
    },
    {
      "cell_type": "code",
      "execution_count": 42,
      "metadata": {
        "colab": {
          "base_uri": "https://localhost:8080/"
        },
        "id": "60dO9FIwikqS",
        "outputId": "a888e3b9-6cea-435b-9a09-149101575972"
      },
      "outputs": [
        {
          "name": "stdout",
          "output_type": "stream",
          "text": [
            "Jumlah Sampel: \n",
            "Set Latih: 14000 sampel\n",
            "Set Uji: 6000 sampel\n"
          ]
        }
      ],
      "source": [
        "# Bagi Data menjadi Set Latih dan Set Uji (70% Latih, 30% Uji)\n",
        "X_latih_rf, X_uji_rf, y_latih_rf, y_uji_rf = train_test_split(fitur_tfidf, label, test_size=0.3, random_state=42)\n",
        "\n",
        "print(\"Jumlah Sampel: \")\n",
        "print(f\"Set Latih: {X_latih_rf.shape[0]} sampel\")\n",
        "print(f\"Set Uji: {X_uji_rf.shape[0]} sampel\")"
      ]
    },
    {
      "cell_type": "markdown",
      "metadata": {},
      "source": [
        "##### Inisialisasi dan Pelatihan Model Random Forest untuk Klasifikasi Sentimen"
      ]
    },
    {
      "cell_type": "markdown",
      "metadata": {},
      "source": [
        "Pada tahap ini, model Random Forest dikonfigurasi menggunakan sejumlah 300 pohon keputusan (n_estimators) dan beberapa pengaturan hyperparameter untuk meningkatkan akurasi prediksi dan mengurangi overfitting. Setelah diinisialisasi, model dilatih menggunakan data pelatihan yang telah disiapkan sebelumnya, lalu diterapkan untuk memprediksi label dari data uji."
      ]
    },
    {
      "cell_type": "code",
      "execution_count": 43,
      "metadata": {
        "id": "i76O787_ikla"
      },
      "outputs": [],
      "source": [
        "# Inisialisasi Model Random Forest dengan Penyesuaian Hyperparameter\n",
        "rf_model = RandomForestClassifier(\n",
        "    n_estimators=300,\n",
        "    max_depth=None,\n",
        "    min_samples_split=5,\n",
        "    min_samples_leaf=2,\n",
        "    random_state=42\n",
        ")\n",
        "\n",
        "# Latih Model\n",
        "rf_model.fit(X_latih_rf, y_latih_rf)\n",
        "\n",
        "# Lakukan Prediksi\n",
        "y_pred_rf = rf_model.predict(X_uji_rf)"
      ]
    },
    {
      "cell_type": "markdown",
      "metadata": {},
      "source": [
        "##### Evaluasi Model Random Forest dengan Representasi TF-IDF"
      ]
    },
    {
      "cell_type": "markdown",
      "metadata": {},
      "source": [
        "Setelah proses pelatihan selesai, model Random Forest dievaluasi untuk mengukur performanya dalam mengklasifikasikan data sentimen. Evaluasi ini mencakup akurasi pada data latih dan uji, laporan klasifikasi yang memberikan rincian presisi, recall, dan f1-score, serta visualisasi melalui confusion matrix untuk memahami distribusi prediksi model."
      ]
    },
    {
      "cell_type": "code",
      "execution_count": 44,
      "metadata": {
        "colab": {
          "base_uri": "https://localhost:8080/",
          "height": 885
        },
        "id": "EKtN60GOinIu",
        "outputId": "32703b8a-7fbd-4128-f1fd-a486b223137e"
      },
      "outputs": [
        {
          "name": "stdout",
          "output_type": "stream",
          "text": [
            "\n",
            "Evaluasi Model Random Forest dengan TF-IDF\n",
            "Akurasi Latih: 0.9619\n",
            "Akurasi Uji: 0.9252\n",
            "\n",
            "Laporan Klasifikasi:\n",
            "              precision    recall  f1-score   support\n",
            "\n",
            "     negatif       0.87      0.62      0.72       538\n",
            "      netral       0.90      0.96      0.93      3079\n",
            "     positif       0.96      0.94      0.95      2383\n",
            "\n",
            "    accuracy                           0.93      6000\n",
            "   macro avg       0.91      0.84      0.87      6000\n",
            "weighted avg       0.92      0.93      0.92      6000\n",
            "\n"
          ]
        },
        {
          "data": {
            "image/png": "[encoded data removed]",
            "text/plain": [
              "<Figure size 800x600 with 2 Axes>"
            ]
          },
          "metadata": {},
          "output_type": "display_data"
        }
      ],
      "source": [
        "# Evaluasi Model\n",
        "akurat_latih = accuracy_score(y_latih_rf, rf_model.predict(X_latih_rf))\n",
        "akurat_uji_rf = accuracy_score(y_uji_rf, y_pred_rf)\n",
        "\n",
        "print(\"\\nEvaluasi Model Random Forest dengan TF-IDF\")\n",
        "print(f\"Akurasi Latih: {akurat_latih:.4f}\")\n",
        "print(f\"Akurasi Uji: {akurat_uji_rf:.4f}\")\n",
        "\n",
        "print(\"\\nLaporan Klasifikasi:\")\n",
        "print(classification_report(y_uji_rf, y_pred_rf, target_names=['negatif', 'netral', 'positif']))\n",
        "\n",
        "# Plot Matriks Kebingungannya\n",
        "plt.figure(figsize=(8, 6))\n",
        "cm = confusion_matrix(y_uji_rf, y_pred_rf)\n",
        "sns.heatmap(cm, annot=True, fmt='d', cmap='Blues',\n",
        "            xticklabels=['negatif', 'netral', 'positif'],\n",
        "            yticklabels=['negatif', 'netral', 'positif'])\n",
        "plt.title('Matriks Kebingungannya Random Forest')\n",
        "plt.xlabel('Prediksi')\n",
        "plt.ylabel('Sebenarnya')\n",
        "plt.tight_layout()\n",
        "plt.show()"
      ]
    },
    {
      "cell_type": "markdown",
      "metadata": {
        "id": "ufv-uzvyioxW"
      },
      "source": [
        "### Perbandingan Performa Model"
      ]
    },
    {
      "cell_type": "markdown",
      "metadata": {},
      "source": [
        "Tabel ini menyajikan perbandingan performa dari tiga model berbeda yang digunakan untuk klasifikasi sentimen, yaitu LSTM dengan fitur Word Embedding, SVM dengan fitur TF-IDF, dan Random Forest (RF) juga menggunakan TF-IDF. Masing-masing model dilatih menggunakan rasio data pelatihan dan pengujian yang berbeda, dan akurasinya ditampilkan dalam format persentase untuk memudahkan interpretasi."
      ]
    },
    {
      "cell_type": "code",
      "execution_count": 46,
      "metadata": {
        "colab": {
          "base_uri": "https://localhost:8080/",
          "height": 161
        },
        "id": "WDxbpwD9irpz",
        "outputId": "d0c5b6f8-2296-48ae-f21b-79ac5868479c"
      },
      "outputs": [
        {
          "name": "stdout",
          "output_type": "stream",
          "text": [
            "Ringkasan Hasil Evaluasi Model\n"
          ]
        },
        {
          "data": {
            "text/html": [
              "<div>\n",
              "<style scoped>\n",
              "    .dataframe tbody tr th:only-of-type {\n",
              "        vertical-align: middle;\n",
              "    }\n",
              "\n",
              "    .dataframe tbody tr th {\n",
              "        vertical-align: top;\n",
              "    }\n",
              "\n",
              "    .dataframe thead th {\n",
              "        text-align: right;\n",
              "    }\n",
              "</style>\n",
              "<table border=\"1\" class=\"dataframe\">\n",
              "  <thead>\n",
              "    <tr style=\"text-align: right;\">\n",
              "      <th></th>\n",
              "      <th>Model</th>\n",
              "      <th>Akurasi</th>\n",
              "      <th>Rasio Pembagian Data</th>\n",
              "      <th>Jenis Fitur</th>\n",
              "    </tr>\n",
              "  </thead>\n",
              "  <tbody>\n",
              "    <tr>\n",
              "      <th>0</th>\n",
              "      <td>LSTM + Embedding (80/20)</td>\n",
              "      <td>95.20%</td>\n",
              "      <td>80/20</td>\n",
              "      <td>Word Embedding</td>\n",
              "    </tr>\n",
              "    <tr>\n",
              "      <th>1</th>\n",
              "      <td>SVM + TF-IDF (80/20)</td>\n",
              "      <td>93.92%</td>\n",
              "      <td>80/20</td>\n",
              "      <td>TF-IDF</td>\n",
              "    </tr>\n",
              "    <tr>\n",
              "      <th>2</th>\n",
              "      <td>Random Forest + TF-IDF (70/30)</td>\n",
              "      <td>92.52%</td>\n",
              "      <td>70/30</td>\n",
              "      <td>TF-IDF</td>\n",
              "    </tr>\n",
              "  </tbody>\n",
              "</table>\n",
              "</div>"
            ],
            "text/plain": [
              "                            Model Akurasi Rasio Pembagian Data     Jenis Fitur\n",
              "0        LSTM + Embedding (80/20)  95.20%                80/20  Word Embedding\n",
              "1            SVM + TF-IDF (80/20)  93.92%                80/20          TF-IDF\n",
              "2  Random Forest + TF-IDF (70/30)  92.52%                70/30          TF-IDF"
            ]
          },
          "metadata": {},
          "output_type": "display_data"
        }
      ],
      "source": [
        "# Membuat tabel ringkasan performa model\n",
        "ringkasan = {\n",
        "    'Model': ['LSTM + Embedding (80/20)', 'SVM + TF-IDF (80/20)', 'Random Forest + TF-IDF (70/30)'],\n",
        "    'Akurasi': [akurasi_lstm, akurasi_svm, akurat_uji_rf],  # gunakan nama variabel yang benar\n",
        "    'Rasio Pembagian Data': ['80/20', '80/20', '70/30'],\n",
        "    'Jenis Fitur': ['Word Embedding', 'TF-IDF', 'TF-IDF']\n",
        "}\n",
        "\n",
        "# Mengonversi ke DataFrame\n",
        "df_ringkasan = pd.DataFrame(ringkasan)\n",
        "\n",
        "# Format akurasi menjadi persen\n",
        "df_ringkasan['Akurasi'] = df_ringkasan['Akurasi'].apply(lambda x: f\"{x:.2%}\")\n",
        "\n",
        "# Menampilkan ringkasan\n",
        "print(\"Ringkasan Hasil Evaluasi Model\")\n",
        "display(df_ringkasan)"
      ]
    },
    {
      "cell_type": "markdown",
      "metadata": {
        "id": "QkEEr5ZaitIX"
      },
      "source": [
        "### Save Models for Inference"
      ]
    },
    {
      "cell_type": "markdown",
      "metadata": {},
      "source": [
        "Langkah ini dilakukan untuk menyimpan model hasil pelatihan beserta komponen pendukung seperti TF-IDF vectorizer dan tokenizer agar dapat digunakan kembali tanpa perlu melatih ulang."
      ]
    },
    {
      "cell_type": "code",
      "execution_count": 49,
      "metadata": {
        "colab": {
          "base_uri": "https://localhost:8080/",
          "height": 54
        },
        "id": "Y0SkJFGYiwDD",
        "outputId": "68b76057-d0fd-4df6-c2a8-cba69c00ef5a"
      },
      "outputs": [
        {
          "name": "stderr",
          "output_type": "stream",
          "text": [
            "WARNING:absl:You are saving your model as an HDF5 file via `model.save()` or `keras.saving.save_model(model)`. This file format is considered legacy. We recommend using instead the native Keras format, e.g. `model.save('my_model.keras')` or `keras.saving.save_model(model, 'my_model.keras')`. \n"
          ]
        }
      ],
      "source": [
        "# Simpan Model LSTM\n",
        "model_lstm.save(\"../Models/lstm_sentiment_model.h5\")\n",
        "\n",
        "# Simpan Model SVM\n",
        "with open(\"../Models/svm_sentiment_model.pkl\", \"wb\") as f:\n",
        "    pickle.dump(model_svm, f)\n",
        "\n",
        "# Simpan Model Random Forest\n",
        "with open(\"../Models/rf_sentiment_model.pkl\", \"wb\") as f:\n",
        "    pickle.dump(rf_model, f)\n",
        "\n",
        "# Simpan TF-IDF Vectorizer\n",
        "with open(\"../Models/vectorizer.pkl\", \"wb\") as f:\n",
        "    pickle.dump(tfidf, f)\n",
        "\n",
        "# Simpan Tokenizer\n",
        "with open(\"../Models/tokenizer.pkl\", \"wb\") as f:\n",
        "    pickle.dump(tokenizer, f)"
      ]
    }
  ],
  "metadata": {
    "accelerator": "GPU",
    "colab": {
      "gpuType": "T4",
      "provenance": []
    },
    "kernelspec": {
      "display_name": "Python 3",
      "name": "python3"
    },
    "language_info": {
      "codemirror_mode": {
        "name": "ipython",
        "version": 3
      },
      "file_extension": ".py",
      "mimetype": "text/x-python",
      "name": "python",
      "nbconvert_exporter": "python",
      "pygments_lexer": "ipython3",
      "version": "3.12.7"
    }
  },
  "nbformat": 4,
  "nbformat_minor": 0
}
