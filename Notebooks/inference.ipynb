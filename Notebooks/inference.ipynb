{
  "cells": [
    {
      "cell_type": "markdown",
      "metadata": {
        "id": "4gbQXBqtkYea"
      },
      "source": [
        "## Inisialisasi Library untuk Tahap Inference"
      ]
    },
    {
      "cell_type": "markdown",
      "metadata": {},
      "source": [
        "Pada tahap inference atau prediksi, kita perlu memuat beberapa library penting yang dibutuhkan untuk membaca model, melakukan preprocessing input, dan mengatur eksekusi program. Berikut penjelasan masing-masing library:\n",
        "\n",
        "- `pickle`: Digunakan untuk membuka file hasil serialisasi model dan tokenizer yang sebelumnya disimpan dalam format `.pkl`.\n",
        "- `numpy`: Digunakan untuk manipulasi data numerik seperti array, yang umum digunakan dalam pengolahan data machine learning.\n",
        "- `tensorflow`: Digunakan untuk memuat dan menjalankan model deep learning, khususnya model LSTM.\n",
        "- `pad_sequences` dari Keras: Digunakan untuk menyamakan panjang input teks agar dapat diproses oleh model LSTM.\n",
        "- `warnings`: Digunakan untuk menonaktifkan peringatan runtime agar output lebih bersih dan mudah dibaca."
      ]
    },
    {
      "cell_type": "code",
      "execution_count": 1,
      "metadata": {
        "id": "pVN7Kg2ckb1R"
      },
      "outputs": [],
      "source": [
        "# Mengimpor library untuk membaca file model dan tokenizer yang disimpan\n",
        "import pickle\n",
        "\n",
        "# Mengimpor library untuk manipulasi array dan operasi numerik\n",
        "import numpy as np\n",
        "\n",
        "# Mengimpor TensorFlow untuk memuat dan menjalankan model deep learning\n",
        "import tensorflow as tf\n",
        "\n",
        "# Mengimpor fungsi untuk padding input teks agar memiliki panjang yang seragam\n",
        "from keras.preprocessing.sequence import pad_sequences\n",
        "\n",
        "# Menonaktifkan peringatan agar output lebih bersih\n",
        "import warnings\n",
        "warnings.filterwarnings(\"ignore\")"
      ]
    },
    {
      "cell_type": "markdown",
      "metadata": {
        "id": "0PyHmtp6kdhE"
      },
      "source": [
        "## Memuat Model dan Alat Preprocessing untuk Inference"
      ]
    },
    {
      "cell_type": "markdown",
      "metadata": {},
      "source": [
        "Pada tahap ini, kita akan memuat ulang seluruh model serta alat bantu preprocessing yang sebelumnya telah disimpan di folder `../Models`. Ini penting dilakukan sebelum melakukan inference (prediksi) pada data baru.\n",
        "\n",
        "Berikut komponen yang dimuat:\n",
        "\n",
        "- **Model LSTM**: File `.h5` berisi model neural network LSTM untuk klasifikasi sentimen berbasis word embedding.\n",
        "- **Model SVM**: File `.pkl` hasil serialisasi model Support Vector Machine yang telah dilatih.\n",
        "- **Model Random Forest**: File `.pkl` yang berisi model ensemble Random Forest.\n",
        "- **TF-IDF Vectorizer**: Digunakan untuk mentransformasi teks menjadi fitur numerik berbasis frekuensi kata.\n",
        "- **Tokenizer**: Untuk mengubah teks mentah menjadi urutan token numerik yang dapat digunakan oleh model LSTM.\n",
        "\n",
        "Semua file ini disimpan di direktori `../Models` dan dibaca ulang ke memori agar siap digunakan untuk proses klasifikasi data baru."
      ]
    },
    {
      "cell_type": "code",
      "execution_count": 6,
      "metadata": {
        "colab": {
          "base_uri": "https://localhost:8080/"
        },
        "id": "zjpwKr-hkhRB",
        "outputId": "32dc0dd5-a436-475d-9eeb-72afdcb6c78f"
      },
      "outputs": [
        {
          "name": "stderr",
          "output_type": "stream",
          "text": [
            "WARNING:absl:Compiled the loaded model, but the compiled metrics have yet to be built. `model.compile_metrics` will be empty until you train or evaluate the model.\n"
          ]
        }
      ],
      "source": [
        "# Memuat model LSTM dari file .h5 yang berada di dalam folder ../Models\n",
        "lstm_model = tf.keras.models.load_model(\"../Models/lstm_sentiment_model.h5\")\n",
        "\n",
        "# Membuka dan memuat model SVM dari file pickle\n",
        "with open(\"../Models/svm_sentiment_model.pkl\", \"rb\") as f:\n",
        "    svm_model = pickle.load(f)\n",
        "\n",
        "# Membuka dan memuat model Random Forest dari file pickle\n",
        "with open(\"../Models/rf_sentiment_model.pkl\", \"rb\") as f:\n",
        "    rf_model = pickle.load(f)\n",
        "\n",
        "# Memuat kembali TF-IDF Vectorizer untuk mentransformasi teks ke bentuk vektor numerik\n",
        "with open(\"../Models/vectorizer.pkl\", \"rb\") as f:\n",
        "    vectorizer = pickle.load(f)\n",
        "\n",
        "# Memuat tokenizer untuk mengubah teks menjadi urutan token angka untuk model LSTM\n",
        "with open(\"../Models/tokenizer.pkl\", \"rb\") as f:\n",
        "    tokenizer = pickle.load(f)"
      ]
    },
    {
      "cell_type": "markdown",
      "metadata": {
        "id": "UbqiSsRVkizq"
      },
      "source": [
        "## Preprocessing Untuk Data Baru"
      ]
    },
    {
      "cell_type": "markdown",
      "metadata": {},
      "source": [
        "Pada tahap ini, kita menyiapkan sejumlah data teks baru yang akan digunakan untuk pengujian model klasifikasi sentimen yang telah dilatih sebelumnya. Data ini akan diproses agar sesuai dengan format input masing-masing model:\n",
        "\n",
        "1. **Data Teks Baru**: Terdiri dari tiga kalimat dengan sentimen yang bervariasi (positif, negatif, dan netral).\n",
        "2. **Untuk Model LSTM**:\n",
        "   - Teks diubah menjadi urutan token menggunakan `Tokenizer`.\n",
        "   - Urutan token dipadatkan (padded) agar panjangnya seragam sesuai panjang maksimum yang digunakan saat pelatihan.\n",
        "3. **Untuk Model SVM dan Random Forest**:\n",
        "   - Teks diubah menjadi representasi vektor numerik menggunakan TF-IDF vectorizer yang telah dilatih.\n",
        "\n",
        "Setelah tahap ini, data siap digunakan untuk melakukan prediksi sentimen dengan masing-masing model."
      ]
    },
    {
      "cell_type": "code",
      "execution_count": 7,
      "metadata": {
        "id": "t08BsG7gkl8Z"
      },
      "outputs": [],
      "source": [
        "# Data teks baru yang akan digunakan untuk prediksi sentimen\n",
        "new_texts = [\n",
        "    \"Produk ini sangat bagus!\",  # Kemungkinan sentimen positif\n",
        "    \"Pelayanan sangat lambat dan mengecewakan.\",  # Kemungkinan sentimen negatif\n",
        "    \"Harganya cukup mahal tapi kualitasnya biasa saja.\"  # Kemungkinan netral\n",
        "]\n",
        "\n",
        "# Preprocessing untuk Model LSTM:\n",
        "# Mengubah teks menjadi urutan token numerik\n",
        "new_sequences = tokenizer.texts_to_sequences(new_texts)\n",
        "\n",
        "# Melakukan padding pada urutan token agar seragam panjangnya (maxlen=100)\n",
        "new_padded = pad_sequences(new_sequences, maxlen=100)\n",
        "\n",
        "# Preprocessing untuk Model SVM dan Random Forest:\n",
        "# Mengubah teks menjadi representasi vektor numerik dengan metode TF-IDF\n",
        "new_tfidf = vectorizer.transform(new_texts)"
      ]
    },
    {
      "cell_type": "markdown",
      "metadata": {
        "id": "dQT8z_M1koGF"
      },
      "source": [
        "## Perform Sentiment Prediction"
      ]
    },
    {
      "cell_type": "markdown",
      "metadata": {},
      "source": [
        "Setelah data baru selesai diproses, langkah berikutnya adalah melakukan prediksi sentimen menggunakan tiga model berbeda yang telah dilatih sebelumnya, yaitu LSTM, SVM, dan Random Forest. \n",
        "\n",
        "Berikut penjelasan masing-masing langkah:\n",
        "\n",
        "1. **Model LSTM**: Menghasilkan probabilitas untuk setiap kelas (negatif, netral, positif), sehingga kita mengambil argmax untuk mendapatkan label prediksi.\n",
        "2. **Model SVM**: Langsung memberikan label kelas sebagai hasil dari prediksi.\n",
        "3. **Model Random Forest**: Sama seperti SVM, model ini memberikan output berupa label kelas berdasarkan hasil voting dari berbagai pohon keputusan.\n",
        "\n",
        "Prediksi ini akan menghasilkan label numerik (biasanya 0, 1, atau 2) yang kemudian bisa diinterpretasikan ke dalam kategori sentimen."
      ]
    },
    {
      "cell_type": "code",
      "execution_count": 8,
      "metadata": {
        "colab": {
          "base_uri": "https://localhost:8080/"
        },
        "id": "1RuBx-nwkrKo",
        "outputId": "3f4c10f2-4afb-471b-b990-b5e22f46cabe"
      },
      "outputs": [
        {
          "name": "stdout",
          "output_type": "stream",
          "text": [
            "\u001b[1m1/1\u001b[0m \u001b[32m━━━━━━━━━━━━━━━━━━━━\u001b[0m\u001b[37m\u001b[0m \u001b[1m1s\u001b[0m 585ms/step\n"
          ]
        }
      ],
      "source": [
        "# Melakukan prediksi menggunakan model LSTM\n",
        "# Hasil prediksi berupa probabilitas untuk setiap kelas, sehingga kita ambil nilai maksimum (argmax)\n",
        "lstm_preds = np.argmax(lstm_model.predict(new_padded), axis=1)\n",
        "\n",
        "# Melakukan prediksi menggunakan model SVM\n",
        "# Model SVM secara langsung menghasilkan label prediksi dari data TF-IDF\n",
        "svm_preds = svm_model.predict(new_tfidf)\n",
        "\n",
        "# Melakukan prediksi menggunakan model Random Forest\n",
        "# Sama seperti SVM, Random Forest memberikan prediksi berbasis data TF-IDF\n",
        "rf_preds = rf_model.predict(new_tfidf)"
      ]
    },
    {
      "cell_type": "markdown",
      "metadata": {
        "id": "umDvxX5Gks6h"
      },
      "source": [
        "## Display Results"
      ]
    },
    {
      "cell_type": "markdown",
      "metadata": {},
      "source": [
        "Setelah proses prediksi dilakukan, tahap selanjutnya adalah menampilkan hasil prediksi sentimen dari ketiga model yaitu LSTM, SVM, dan Random Forest. \n",
        "\n",
        "Langkah ini bertujuan untuk melihat dan membandingkan output prediksi dari masing-masing model terhadap input teks yang diberikan. Setiap label numerik hasil prediksi dikonversi menjadi label string ('negative', 'neutral', 'positive') agar lebih mudah dipahami. Hasil ini akan dicetak satu per satu untuk setiap teks input."
      ]
    },
    {
      "cell_type": "code",
      "execution_count": 9,
      "metadata": {
        "colab": {
          "base_uri": "https://localhost:8080/"
        },
        "id": "bHgbS6IJkvEV",
        "outputId": "7e0b031a-855d-4ac9-dbb6-f4bfd43bfb45"
      },
      "outputs": [
        {
          "name": "stdout",
          "output_type": "stream",
          "text": [
            "\n",
            "Sentiment Prediction Results: \n",
            "Text: Produk ini sangat bagus!\n",
            "LSTM Prediction: positive\n",
            "SVM Prediction: positive\n",
            "Random Forest Prediction: positive\n",
            "--------------------------------------------------\n",
            "Text: Pelayanan sangat lambat dan mengecewakan.\n",
            "LSTM Prediction: negative\n",
            "SVM Prediction: negative\n",
            "Random Forest Prediction: negative\n",
            "--------------------------------------------------\n",
            "Text: Harganya cukup mahal tapi kualitasnya biasa saja.\n",
            "LSTM Prediction: neutral\n",
            "SVM Prediction: neutral\n",
            "Random Forest Prediction: neutral\n",
            "--------------------------------------------------\n"
          ]
        }
      ],
      "source": [
        "# Mapping label numerik ke label string agar hasil prediksi lebih mudah dibaca\n",
        "label_map = {0: \"negative\", 1: \"neutral\", 2: \"positive\"}\n",
        "\n",
        "# Menampilkan hasil prediksi dari ketiga model untuk setiap input teks\n",
        "print(\"\\nSentiment Prediction Results: \")\n",
        "for i, text in enumerate(new_texts):\n",
        "    print(f\"Text: {text}\")  # Menampilkan teks input\n",
        "    print(f\"LSTM Prediction: {label_map[lstm_preds[i]]}\")  # Hasil prediksi model LSTM\n",
        "    print(f\"SVM Prediction: {label_map[svm_preds[i]]}\")    # Hasil prediksi model SVM\n",
        "    print(f\"Random Forest Prediction: {label_map[rf_preds[i]]}\")  # Hasil prediksi model RF\n",
        "    print(\"-\" * 50)  # Garis pemisah antar hasil"
      ]
    }
  ],
  "metadata": {
    "colab": {
      "provenance": []
    },
    "kernelspec": {
      "display_name": "Python 3",
      "name": "python3"
    },
    "language_info": {
      "codemirror_mode": {
        "name": "ipython",
        "version": 3
      },
      "file_extension": ".py",
      "mimetype": "text/x-python",
      "name": "python",
      "nbconvert_exporter": "python",
      "pygments_lexer": "ipython3",
      "version": "3.12.7"
    }
  },
  "nbformat": 4,
  "nbformat_minor": 0
}
